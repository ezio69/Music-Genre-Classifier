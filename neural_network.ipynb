{
 "cells": [
  {
   "cell_type": "code",
   "execution_count": 0,
   "metadata": {
    "colab": {},
    "colab_type": "code",
    "id": "ZjrAQbmslo-a"
   },
   "outputs": [],
   "source": [
    "import numpy as np\n",
    "import pandas as pd\n",
    "from tensorflow import set_random_seed\n",
    "seed = 25\n",
    "np.random.seed(seed)\n",
    "set_random_seed(seed)"
   ]
  },
  {
   "cell_type": "code",
   "execution_count": 2,
   "metadata": {
    "colab": {
     "base_uri": "https://localhost:8080/",
     "height": 74,
     "resources": {
      "http://localhost:8080/nbextensions/google.colab/files.js": {
       "data": "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",
       "headers": [
        [
         "content-type",
         "application/javascript"
        ]
       ],
       "ok": true,
       "status": 200,
       "status_text": ""
      }
     }
    },
    "colab_type": "code",
    "id": "k8T66v2nNtNA",
    "outputId": "e8993279-355d-44d8-87b2-a2ecdf689524"
   },
   "outputs": [
    {
     "data": {
      "text/html": [
       "\n",
       "     <input type=\"file\" id=\"files-1579988f-8f4c-4cce-89a7-9948dad5f53a\" name=\"files[]\" multiple disabled />\n",
       "     <output id=\"result-1579988f-8f4c-4cce-89a7-9948dad5f53a\">\n",
       "      Upload widget is only available when the cell has been executed in the\n",
       "      current browser session. Please rerun this cell to enable.\n",
       "      </output>\n",
       "      <script src=\"/nbextensions/google.colab/files.js\"></script> "
      ],
      "text/plain": [
       "<IPython.core.display.HTML object>"
      ]
     },
     "metadata": {
      "tags": []
     },
     "output_type": "display_data"
    },
    {
     "name": "stdout",
     "output_type": "stream",
     "text": [
      "Saving dataset_final5.csv to dataset_final5 (1).csv\n"
     ]
    }
   ],
   "source": [
    "# uploading files\n",
    "from google.colab import files\n",
    "uploaded = files.upload()"
   ]
  },
  {
   "cell_type": "code",
   "execution_count": 3,
   "metadata": {
    "colab": {
     "base_uri": "https://localhost:8080/",
     "height": 253
    },
    "colab_type": "code",
    "id": "IavkC2dUN2zC",
    "outputId": "35d8d46a-3d10-49ce-8da8-69ee7e1b8b3e"
   },
   "outputs": [
    {
     "data": {
      "text/html": [
       "<div>\n",
       "<style scoped>\n",
       "    .dataframe tbody tr th:only-of-type {\n",
       "        vertical-align: middle;\n",
       "    }\n",
       "\n",
       "    .dataframe tbody tr th {\n",
       "        vertical-align: top;\n",
       "    }\n",
       "\n",
       "    .dataframe thead th {\n",
       "        text-align: right;\n",
       "    }\n",
       "</style>\n",
       "<table border=\"1\" class=\"dataframe\">\n",
       "  <thead>\n",
       "    <tr style=\"text-align: right;\">\n",
       "      <th></th>\n",
       "      <th>filename</th>\n",
       "      <th>genre</th>\n",
       "      <th>chroma_stft</th>\n",
       "      <th>spec_cent</th>\n",
       "      <th>spec_bw</th>\n",
       "      <th>rolloff</th>\n",
       "      <th>zcr</th>\n",
       "      <th>bpm</th>\n",
       "      <th>rms</th>\n",
       "      <th>mfcc1</th>\n",
       "      <th>...</th>\n",
       "      <th>mfcc41</th>\n",
       "      <th>mfcc42</th>\n",
       "      <th>mfcc43</th>\n",
       "      <th>mfcc44</th>\n",
       "      <th>mfcc45</th>\n",
       "      <th>mfcc46</th>\n",
       "      <th>mfcc47</th>\n",
       "      <th>mfcc48</th>\n",
       "      <th>mfcc49</th>\n",
       "      <th>mfcc50</th>\n",
       "    </tr>\n",
       "  </thead>\n",
       "  <tbody>\n",
       "    <tr>\n",
       "      <th>0</th>\n",
       "      <td>hiphop.00039.wav</td>\n",
       "      <td>hiphop</td>\n",
       "      <td>0.392812</td>\n",
       "      <td>2693.202928</td>\n",
       "      <td>2937.743987</td>\n",
       "      <td>5976.540527</td>\n",
       "      <td>0.111564</td>\n",
       "      <td>95.703125</td>\n",
       "      <td>0.184535</td>\n",
       "      <td>-120.936802</td>\n",
       "      <td>...</td>\n",
       "      <td>-4.544398</td>\n",
       "      <td>-1.116098</td>\n",
       "      <td>-0.442828</td>\n",
       "      <td>1.368081</td>\n",
       "      <td>-1.351025</td>\n",
       "      <td>1.062983</td>\n",
       "      <td>-1.365897</td>\n",
       "      <td>-0.282049</td>\n",
       "      <td>-3.322343</td>\n",
       "      <td>-2.491533</td>\n",
       "    </tr>\n",
       "    <tr>\n",
       "      <th>1</th>\n",
       "      <td>classical.00008.wav</td>\n",
       "      <td>classical</td>\n",
       "      <td>0.254753</td>\n",
       "      <td>1516.831118</td>\n",
       "      <td>1629.756432</td>\n",
       "      <td>2974.121717</td>\n",
       "      <td>0.078778</td>\n",
       "      <td>135.999178</td>\n",
       "      <td>0.034045</td>\n",
       "      <td>-292.060391</td>\n",
       "      <td>...</td>\n",
       "      <td>-3.128277</td>\n",
       "      <td>-4.105968</td>\n",
       "      <td>-2.829742</td>\n",
       "      <td>-4.551546</td>\n",
       "      <td>-3.399555</td>\n",
       "      <td>0.326640</td>\n",
       "      <td>-0.111041</td>\n",
       "      <td>1.113019</td>\n",
       "      <td>-11.700742</td>\n",
       "      <td>-8.149296</td>\n",
       "    </tr>\n",
       "    <tr>\n",
       "      <th>2</th>\n",
       "      <td>country.00065.wav</td>\n",
       "      <td>country</td>\n",
       "      <td>0.282832</td>\n",
       "      <td>894.163206</td>\n",
       "      <td>1195.504133</td>\n",
       "      <td>1638.879933</td>\n",
       "      <td>0.038668</td>\n",
       "      <td>123.046875</td>\n",
       "      <td>0.110570</td>\n",
       "      <td>-250.869250</td>\n",
       "      <td>...</td>\n",
       "      <td>-1.986717</td>\n",
       "      <td>-2.687421</td>\n",
       "      <td>-6.502090</td>\n",
       "      <td>-3.036567</td>\n",
       "      <td>-3.380589</td>\n",
       "      <td>-6.804494</td>\n",
       "      <td>-3.721581</td>\n",
       "      <td>-4.942162</td>\n",
       "      <td>-2.600114</td>\n",
       "      <td>-0.758590</td>\n",
       "    </tr>\n",
       "    <tr>\n",
       "      <th>3</th>\n",
       "      <td>rock.00099.wav</td>\n",
       "      <td>rock</td>\n",
       "      <td>0.358401</td>\n",
       "      <td>1609.795082</td>\n",
       "      <td>1797.213044</td>\n",
       "      <td>3246.908930</td>\n",
       "      <td>0.076305</td>\n",
       "      <td>123.046875</td>\n",
       "      <td>0.054454</td>\n",
       "      <td>-235.161996</td>\n",
       "      <td>...</td>\n",
       "      <td>3.197235</td>\n",
       "      <td>-0.324466</td>\n",
       "      <td>1.586878</td>\n",
       "      <td>-2.962916</td>\n",
       "      <td>-2.659141</td>\n",
       "      <td>-3.414244</td>\n",
       "      <td>-9.300236</td>\n",
       "      <td>-3.464518</td>\n",
       "      <td>1.290004</td>\n",
       "      <td>-3.394978</td>\n",
       "    </tr>\n",
       "    <tr>\n",
       "      <th>4</th>\n",
       "      <td>country.00031.wav</td>\n",
       "      <td>country</td>\n",
       "      <td>0.313399</td>\n",
       "      <td>2053.229089</td>\n",
       "      <td>2187.759412</td>\n",
       "      <td>4094.556061</td>\n",
       "      <td>0.095325</td>\n",
       "      <td>112.347147</td>\n",
       "      <td>0.100855</td>\n",
       "      <td>-130.462863</td>\n",
       "      <td>...</td>\n",
       "      <td>-2.419361</td>\n",
       "      <td>0.125743</td>\n",
       "      <td>-1.987918</td>\n",
       "      <td>-2.968017</td>\n",
       "      <td>-5.894993</td>\n",
       "      <td>-7.130352</td>\n",
       "      <td>-2.982234</td>\n",
       "      <td>-1.969581</td>\n",
       "      <td>-5.291008</td>\n",
       "      <td>-8.074206</td>\n",
       "    </tr>\n",
       "  </tbody>\n",
       "</table>\n",
       "<p>5 rows × 59 columns</p>\n",
       "</div>"
      ],
      "text/plain": [
       "              filename      genre  chroma_stft    spec_cent      spec_bw  \\\n",
       "0     hiphop.00039.wav     hiphop     0.392812  2693.202928  2937.743987   \n",
       "1  classical.00008.wav  classical     0.254753  1516.831118  1629.756432   \n",
       "2    country.00065.wav    country     0.282832   894.163206  1195.504133   \n",
       "3       rock.00099.wav       rock     0.358401  1609.795082  1797.213044   \n",
       "4    country.00031.wav    country     0.313399  2053.229089  2187.759412   \n",
       "\n",
       "       rolloff       zcr         bpm       rms       mfcc1    ...     \\\n",
       "0  5976.540527  0.111564   95.703125  0.184535 -120.936802    ...      \n",
       "1  2974.121717  0.078778  135.999178  0.034045 -292.060391    ...      \n",
       "2  1638.879933  0.038668  123.046875  0.110570 -250.869250    ...      \n",
       "3  3246.908930  0.076305  123.046875  0.054454 -235.161996    ...      \n",
       "4  4094.556061  0.095325  112.347147  0.100855 -130.462863    ...      \n",
       "\n",
       "     mfcc41    mfcc42    mfcc43    mfcc44    mfcc45    mfcc46    mfcc47  \\\n",
       "0 -4.544398 -1.116098 -0.442828  1.368081 -1.351025  1.062983 -1.365897   \n",
       "1 -3.128277 -4.105968 -2.829742 -4.551546 -3.399555  0.326640 -0.111041   \n",
       "2 -1.986717 -2.687421 -6.502090 -3.036567 -3.380589 -6.804494 -3.721581   \n",
       "3  3.197235 -0.324466  1.586878 -2.962916 -2.659141 -3.414244 -9.300236   \n",
       "4 -2.419361  0.125743 -1.987918 -2.968017 -5.894993 -7.130352 -2.982234   \n",
       "\n",
       "     mfcc48     mfcc49    mfcc50  \n",
       "0 -0.282049  -3.322343 -2.491533  \n",
       "1  1.113019 -11.700742 -8.149296  \n",
       "2 -4.942162  -2.600114 -0.758590  \n",
       "3 -3.464518   1.290004 -3.394978  \n",
       "4 -1.969581  -5.291008 -8.074206  \n",
       "\n",
       "[5 rows x 59 columns]"
      ]
     },
     "execution_count": 3,
     "metadata": {
      "tags": []
     },
     "output_type": "execute_result"
    }
   ],
   "source": [
    "# importing to dataframe\n",
    "import io\n",
    "df = pd.read_csv(io.BytesIO(uploaded['dataset_final5.csv']))\n",
    "df.head()"
   ]
  },
  {
   "cell_type": "code",
   "execution_count": 0,
   "metadata": {
    "colab": {},
    "colab_type": "code",
    "id": "QWzcVzQPOs_J"
   },
   "outputs": [],
   "source": [
    "# Transferring data to arrays\n",
    "X = df.get_values()\n",
    "Y = X[:,1]\n",
    "X = X[:,2:-20]"
   ]
  },
  {
   "cell_type": "code",
   "execution_count": 5,
   "metadata": {
    "colab": {
     "base_uri": "https://localhost:8080/",
     "height": 139
    },
    "colab_type": "code",
    "id": "zGaZl1CiPDJn",
    "outputId": "6a741edf-a072-4ff8-9004-2fcd8354ea33"
   },
   "outputs": [
    {
     "name": "stderr",
     "output_type": "stream",
     "text": [
      "/usr/local/lib/python3.6/dist-packages/sklearn/utils/validation.py:595: DataConversionWarning: Data with input dtype object was converted to float64 by StandardScaler.\n",
      "  warnings.warn(msg, DataConversionWarning)\n",
      "/usr/local/lib/python3.6/dist-packages/sklearn/utils/validation.py:595: DataConversionWarning: Data with input dtype object was converted to float64 by StandardScaler.\n",
      "  warnings.warn(msg, DataConversionWarning)\n",
      "/usr/local/lib/python3.6/dist-packages/sklearn/utils/validation.py:595: DataConversionWarning: Data with input dtype object was converted to float64 by StandardScaler.\n",
      "  warnings.warn(msg, DataConversionWarning)\n"
     ]
    }
   ],
   "source": [
    "# data preprocessing\n",
    "from sklearn.model_selection import train_test_split\n",
    "from sklearn.preprocessing import LabelBinarizer\n",
    "from sklearn.preprocessing import StandardScaler\n",
    "\n",
    "# splitting to train and test sets\n",
    "X_train,X_test,Y_train,Y_test = train_test_split(X,Y,test_size=0.1,random_state=seed)\n",
    "\n",
    "# encoding output classes\n",
    "encoder = LabelBinarizer()\n",
    "Y_train = encoder.fit_transform(Y_train)\n",
    "Y_test = encoder.transform(Y_test)\n",
    "\n",
    "# scaling input data\n",
    "scaler = StandardScaler()\n",
    "X_train = scaler.fit_transform(X_train)\n",
    "X_test = scaler.transform(X_test)\n"
   ]
  },
  {
   "cell_type": "code",
   "execution_count": 6,
   "metadata": {
    "colab": {
     "base_uri": "https://localhost:8080/",
     "height": 1193
    },
    "colab_type": "code",
    "id": "bJrKg5JdPraY",
    "outputId": "81199c81-016b-4f25-8006-5afee5a2d2f8"
   },
   "outputs": [
    {
     "name": "stdout",
     "output_type": "stream",
     "text": [
      "WARNING:tensorflow:From /usr/local/lib/python3.6/dist-packages/tensorflow/python/framework/op_def_library.py:263: colocate_with (from tensorflow.python.framework.ops) is deprecated and will be removed in a future version.\n",
      "Instructions for updating:\n",
      "Colocations handled automatically by placer.\n"
     ]
    },
    {
     "name": "stderr",
     "output_type": "stream",
     "text": [
      "Using TensorFlow backend.\n"
     ]
    },
    {
     "name": "stdout",
     "output_type": "stream",
     "text": [
      "WARNING:tensorflow:From /usr/local/lib/python3.6/dist-packages/tensorflow/python/ops/math_ops.py:3066: to_int32 (from tensorflow.python.ops.math_ops) is deprecated and will be removed in a future version.\n",
      "Instructions for updating:\n",
      "Use tf.cast instead.\n",
      "Epoch 1/30\n",
      "900/900 [==============================] - 1s 910us/step - loss: 2.9848 - acc: 0.0978\n",
      "Epoch 2/30\n",
      "900/900 [==============================] - 0s 8us/step - loss: 2.2842 - acc: 0.3378\n",
      "Epoch 3/30\n",
      "900/900 [==============================] - 0s 6us/step - loss: 2.3198 - acc: 0.3722\n",
      "Epoch 4/30\n",
      "900/900 [==============================] - 0s 4us/step - loss: 1.8475 - acc: 0.4556\n",
      "Epoch 5/30\n",
      "900/900 [==============================] - 0s 8us/step - loss: 1.7851 - acc: 0.4722\n",
      "Epoch 6/30\n",
      "900/900 [==============================] - 0s 5us/step - loss: 1.6540 - acc: 0.5222\n",
      "Epoch 7/30\n",
      "900/900 [==============================] - 0s 5us/step - loss: 1.4843 - acc: 0.5811\n",
      "Epoch 8/30\n",
      "900/900 [==============================] - 0s 5us/step - loss: 1.4329 - acc: 0.6011\n",
      "Epoch 9/30\n",
      "900/900 [==============================] - 0s 7us/step - loss: 1.3517 - acc: 0.6222\n",
      "Epoch 10/30\n",
      "900/900 [==============================] - 0s 6us/step - loss: 1.2313 - acc: 0.6467\n",
      "Epoch 11/30\n",
      "900/900 [==============================] - 0s 4us/step - loss: 1.1820 - acc: 0.6744\n",
      "Epoch 12/30\n",
      "900/900 [==============================] - 0s 6us/step - loss: 1.1198 - acc: 0.6967\n",
      "Epoch 13/30\n",
      "900/900 [==============================] - 0s 4us/step - loss: 1.0571 - acc: 0.7178\n",
      "Epoch 14/30\n",
      "900/900 [==============================] - 0s 4us/step - loss: 1.0107 - acc: 0.7322\n",
      "Epoch 15/30\n",
      "900/900 [==============================] - 0s 4us/step - loss: 0.9525 - acc: 0.7478\n",
      "Epoch 16/30\n",
      "900/900 [==============================] - 0s 6us/step - loss: 0.9117 - acc: 0.7644\n",
      "Epoch 17/30\n",
      "900/900 [==============================] - 0s 6us/step - loss: 0.8748 - acc: 0.7689\n",
      "Epoch 18/30\n",
      "900/900 [==============================] - 0s 6us/step - loss: 0.8345 - acc: 0.7967\n",
      "Epoch 19/30\n",
      "900/900 [==============================] - 0s 4us/step - loss: 0.7937 - acc: 0.8100\n",
      "Epoch 20/30\n",
      "900/900 [==============================] - 0s 4us/step - loss: 0.7677 - acc: 0.8233\n",
      "Epoch 21/30\n",
      "900/900 [==============================] - 0s 6us/step - loss: 0.7320 - acc: 0.8389\n",
      "Epoch 22/30\n",
      "900/900 [==============================] - 0s 5us/step - loss: 0.6992 - acc: 0.8500\n",
      "Epoch 23/30\n",
      "900/900 [==============================] - 0s 6us/step - loss: 0.6827 - acc: 0.8467\n",
      "Epoch 24/30\n",
      "900/900 [==============================] - 0s 4us/step - loss: 0.6526 - acc: 0.8578\n",
      "Epoch 25/30\n",
      "900/900 [==============================] - 0s 5us/step - loss: 0.6175 - acc: 0.8789\n",
      "Epoch 26/30\n",
      "900/900 [==============================] - 0s 7us/step - loss: 0.6059 - acc: 0.8767\n",
      "Epoch 27/30\n",
      "900/900 [==============================] - 0s 4us/step - loss: 0.5879 - acc: 0.8878\n",
      "Epoch 28/30\n",
      "900/900 [==============================] - 0s 6us/step - loss: 0.5581 - acc: 0.8978\n",
      "Epoch 29/30\n",
      "900/900 [==============================] - 0s 8us/step - loss: 0.5386 - acc: 0.9100\n",
      "Epoch 30/30\n",
      "900/900 [==============================] - 0s 6us/step - loss: 0.5223 - acc: 0.9133\n"
     ]
    },
    {
     "data": {
      "text/plain": [
       "<keras.callbacks.History at 0x7fa99fbb2e48>"
      ]
     },
     "execution_count": 6,
     "metadata": {
      "tags": []
     },
     "output_type": "execute_result"
    }
   ],
   "source": [
    "from keras import models\n",
    "from keras import layers\n",
    "from keras import initializers\n",
    "from keras import regularizers\n",
    "from keras.layers.advanced_activations import LeakyReLU\n",
    "\n",
    "# designing the network\n",
    "model = models.Sequential()\n",
    "model.add(layers.Dense(128,activation='linear',kernel_regularizer = regularizers.l2(0.001),kernel_initializer = initializers.VarianceScaling(scale=2.0, seed=seed),input_dim=X_train.shape[1]))\n",
    "model.add(LeakyReLU(alpha=0.01))\n",
    "model.add(layers.Dense(10,activation='softmax', kernel_initializer= initializers.VarianceScaling(scale=1.0,seed=seed)))\n",
    "\n",
    "from keras import losses\n",
    "from keras import optimizers\n",
    "\n",
    "# cost function and optimization algorithm to use\n",
    "model.compile(optimizer=optimizers.SGD(lr=0.41,decay=1e-5,momentum=0.9),loss = losses.categorical_crossentropy,metrics = ['accuracy'])\n",
    "\n",
    "model.fit(X_train,Y_train,batch_size =900,epochs=30)\n"
   ]
  },
  {
   "cell_type": "code",
   "execution_count": 7,
   "metadata": {
    "colab": {
     "base_uri": "https://localhost:8080/",
     "height": 34
    },
    "colab_type": "code",
    "id": "sIgrhYSeTDO9",
    "outputId": "ab2ff32a-7061-413d-8ef9-8458528d5c5a"
   },
   "outputs": [
    {
     "name": "stdout",
     "output_type": "stream",
     "text": [
      "Test data accuracy:  0.83\n"
     ]
    }
   ],
   "source": [
    "Y_pred = model.predict(X_test)\n",
    "\n",
    "# converting probablities to final class prediction\n",
    "for i in range(0,100):\n",
    "  for k in range(0,10):\n",
    "    if Y_pred[i,k]< np.amax(Y_pred[i,:]) :\n",
    "      Y_pred[i,k] = 0\n",
    "    else:\n",
    "      Y_pred[i,k] = 1\n",
    "      \n",
    "# testing the model on test dataset\n",
    "from sklearn.metrics import accuracy_score\n",
    "print(\"Test data accuracy: \" ,accuracy_score(Y_pred,Y_test))\n"
   ]
  },
  {
   "cell_type": "code",
   "execution_count": 0,
   "metadata": {
    "colab": {},
    "colab_type": "code",
    "id": "8Kc0u5VrhJQk"
   },
   "outputs": [],
   "source": [
    "# decoding labels\n",
    "Y_test = encoder.inverse_transform(Y_test)\n",
    "Y_pred = encoder.inverse_transform(Y_pred)"
   ]
  },
  {
   "cell_type": "code",
   "execution_count": 9,
   "metadata": {
    "colab": {
     "base_uri": "https://localhost:8080/",
     "height": 374
    },
    "colab_type": "code",
    "id": "mrYjHmpzh_R3",
    "outputId": "084f8160-7b4e-4946-e710-e18f9c2c8df6"
   },
   "outputs": [
    {
     "data": {
      "image/png": "[encoded data removed]",
      "text/plain": [
       "<Figure size 576x396 with 2 Axes>"
      ]
     },
     "metadata": {
      "tags": []
     },
     "output_type": "display_data"
    }
   ],
   "source": [
    "# plotting confusion matrix of our classifier\n",
    "\n",
    "from sklearn.metrics import confusion_matrix\n",
    "import matplotlib.pyplot as plt\n",
    "from matplotlib.ticker import MultipleLocator\n",
    " \n",
    "labels = ['blues','classical','country', 'disco','hiphop', 'jazz', 'metal', 'pop','reggae', 'rock']\n",
    "\n",
    "cm = confusion_matrix(Y_test,Y_pred,labels)\n",
    "\n",
    "fig = plt.figure()\n",
    "ax = fig.add_subplot(111)\n",
    "cax = ax.matshow(cm)\n",
    "plt.title(\"Confusion Matrix\")\n",
    "plt.colorbar(cax)\n",
    "ax.xaxis.set_major_locator(MultipleLocator(1))\n",
    "ax.yaxis.set_major_locator(MultipleLocator(1))\n",
    "ax.set_xticklabels([''] + labels)\n",
    "ax.set_yticklabels([''] + labels)\n",
    "plt.xlabel(\"Predicted genre\")\n",
    "plt.ylabel(\"True genre\")\n",
    "plt.show()\n"
   ]
  },
  {
   "cell_type": "code",
   "execution_count": 0,
   "metadata": {
    "colab": {},
    "colab_type": "code",
    "id": "CqDKYBE7tAz0"
   },
   "outputs": [],
   "source": [
    "# saving the model\n",
    "import pickle\n",
    "\n",
    "pickle.dump(model,open(\"classifier.sav\",\"wb\"))\n",
    "pickle.dump(scaler,open('scaler.sav','wb'))\n",
    "pickle.dump(encoder,open('encoder.sav','wb'))"
   ]
  },
  {
   "cell_type": "code",
   "execution_count": 0,
   "metadata": {
    "colab": {},
    "colab_type": "code",
    "id": "lXuD-00aA7KT"
   },
   "outputs": [],
   "source": [
    "files.download('classifier.sav')"
   ]
  },
  {
   "cell_type": "code",
   "execution_count": 0,
   "metadata": {
    "colab": {},
    "colab_type": "code",
    "id": "os1fhc2ZInox"
   },
   "outputs": [],
   "source": [
    "files.download('encoder.sav')"
   ]
  },
  {
   "cell_type": "code",
   "execution_count": 0,
   "metadata": {
    "colab": {},
    "colab_type": "code",
    "id": "tUEQCyqVKuXh"
   },
   "outputs": [],
   "source": [
    "files.download('scaler.sav')"
   ]
  },
  {
   "cell_type": "code",
   "execution_count": 0,
   "metadata": {
    "colab": {},
    "colab_type": "code",
    "id": "PchorqJiTW-z"
   },
   "outputs": [],
   "source": []
  }
 ],
 "metadata": {
  "accelerator": "GPU",
  "colab": {
   "collapsed_sections": [],
   "name": "classifier.ipynb",
   "provenance": [],
   "version": "0.3.2"
  },
  "kernelspec": {
   "display_name": "Python 3",
   "language": "python",
   "name": "python3"
  },
  "language_info": {
   "codemirror_mode": {
    "name": "ipython",
    "version": 3
   },
   "file_extension": ".py",
   "mimetype": "text/x-python",
   "name": "python",
   "nbconvert_exporter": "python",
   "pygments_lexer": "ipython3",
   "version": "3.6.8"
  },
  "toc": {
   "base_numbering": 1,
   "nav_menu": {},
   "number_sections": true,
   "sideBar": true,
   "skip_h1_title": false,
   "title_cell": "Table of Contents",
   "title_sidebar": "Contents",
   "toc_cell": false,
   "toc_position": {},
   "toc_section_display": true,
   "toc_window_display": false
  }
 },
 "nbformat": 4,
 "nbformat_minor": 1
}
