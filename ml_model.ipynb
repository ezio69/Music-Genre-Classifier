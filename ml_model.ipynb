{
 "cells": [
  {
   "cell_type": "code",
   "execution_count": 0,
   "metadata": {
    "colab": {},
    "colab_type": "code",
    "id": "UitPUxmRePjQ"
   },
   "outputs": [],
   "source": [
    "import numpy as np\n",
    "import pandas as pd\n",
    "seed = 25\n",
    "np.random.seed(seed)"
   ]
  },
  {
   "cell_type": "code",
   "execution_count": 2,
   "metadata": {
    "colab": {
     "base_uri": "https://localhost:8080/",
     "height": 74,
     "resources": {
      "http://localhost:8080/nbextensions/google.colab/files.js": {
       "data": "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",
       "headers": [
        [
         "content-type",
         "application/javascript"
        ]
       ],
       "ok": true,
       "status": 200,
       "status_text": ""
      }
     }
    },
    "colab_type": "code",
    "id": "fqjCTKJIe0t4",
    "outputId": "9ec42b4f-8774-4b18-a65d-52484da15e48"
   },
   "outputs": [
    {
     "data": {
      "text/html": [
       "\n",
       "     <input type=\"file\" id=\"files-1f6c03c7-17c7-4ed0-9743-8c6535a0fad5\" name=\"files[]\" multiple disabled />\n",
       "     <output id=\"result-1f6c03c7-17c7-4ed0-9743-8c6535a0fad5\">\n",
       "      Upload widget is only available when the cell has been executed in the\n",
       "      current browser session. Please rerun this cell to enable.\n",
       "      </output>\n",
       "      <script src=\"/nbextensions/google.colab/files.js\"></script> "
      ],
      "text/plain": [
       "<IPython.core.display.HTML object>"
      ]
     },
     "metadata": {
      "tags": []
     },
     "output_type": "display_data"
    },
    {
     "name": "stdout",
     "output_type": "stream",
     "text": [
      "Saving dataset_final5.csv to dataset_final5 (1).csv\n"
     ]
    }
   ],
   "source": [
    "# uploading dataset\n",
    "from google.colab import files\n",
    "uploaded = files.upload()"
   ]
  },
  {
   "cell_type": "code",
   "execution_count": 3,
   "metadata": {
    "colab": {
     "base_uri": "https://localhost:8080/",
     "height": 253
    },
    "colab_type": "code",
    "id": "cbfZGre6fAuJ",
    "outputId": "17e0b379-abd7-4fae-fb2c-811762a45b32"
   },
   "outputs": [
    {
     "data": {
      "text/html": [
       "<div>\n",
       "<style scoped>\n",
       "    .dataframe tbody tr th:only-of-type {\n",
       "        vertical-align: middle;\n",
       "    }\n",
       "\n",
       "    .dataframe tbody tr th {\n",
       "        vertical-align: top;\n",
       "    }\n",
       "\n",
       "    .dataframe thead th {\n",
       "        text-align: right;\n",
       "    }\n",
       "</style>\n",
       "<table border=\"1\" class=\"dataframe\">\n",
       "  <thead>\n",
       "    <tr style=\"text-align: right;\">\n",
       "      <th></th>\n",
       "      <th>filename</th>\n",
       "      <th>genre</th>\n",
       "      <th>chroma_stft</th>\n",
       "      <th>spec_cent</th>\n",
       "      <th>spec_bw</th>\n",
       "      <th>rolloff</th>\n",
       "      <th>zcr</th>\n",
       "      <th>bpm</th>\n",
       "      <th>rms</th>\n",
       "      <th>mfcc1</th>\n",
       "      <th>...</th>\n",
       "      <th>mfcc41</th>\n",
       "      <th>mfcc42</th>\n",
       "      <th>mfcc43</th>\n",
       "      <th>mfcc44</th>\n",
       "      <th>mfcc45</th>\n",
       "      <th>mfcc46</th>\n",
       "      <th>mfcc47</th>\n",
       "      <th>mfcc48</th>\n",
       "      <th>mfcc49</th>\n",
       "      <th>mfcc50</th>\n",
       "    </tr>\n",
       "  </thead>\n",
       "  <tbody>\n",
       "    <tr>\n",
       "      <th>0</th>\n",
       "      <td>hiphop.00039.wav</td>\n",
       "      <td>hiphop</td>\n",
       "      <td>0.392812</td>\n",
       "      <td>2693.202928</td>\n",
       "      <td>2937.743987</td>\n",
       "      <td>5976.540527</td>\n",
       "      <td>0.111564</td>\n",
       "      <td>95.703125</td>\n",
       "      <td>0.184535</td>\n",
       "      <td>-120.936802</td>\n",
       "      <td>...</td>\n",
       "      <td>-4.544398</td>\n",
       "      <td>-1.116098</td>\n",
       "      <td>-0.442828</td>\n",
       "      <td>1.368081</td>\n",
       "      <td>-1.351025</td>\n",
       "      <td>1.062983</td>\n",
       "      <td>-1.365897</td>\n",
       "      <td>-0.282049</td>\n",
       "      <td>-3.322343</td>\n",
       "      <td>-2.491533</td>\n",
       "    </tr>\n",
       "    <tr>\n",
       "      <th>1</th>\n",
       "      <td>classical.00008.wav</td>\n",
       "      <td>classical</td>\n",
       "      <td>0.254753</td>\n",
       "      <td>1516.831118</td>\n",
       "      <td>1629.756432</td>\n",
       "      <td>2974.121717</td>\n",
       "      <td>0.078778</td>\n",
       "      <td>135.999178</td>\n",
       "      <td>0.034045</td>\n",
       "      <td>-292.060391</td>\n",
       "      <td>...</td>\n",
       "      <td>-3.128277</td>\n",
       "      <td>-4.105968</td>\n",
       "      <td>-2.829742</td>\n",
       "      <td>-4.551546</td>\n",
       "      <td>-3.399555</td>\n",
       "      <td>0.326640</td>\n",
       "      <td>-0.111041</td>\n",
       "      <td>1.113019</td>\n",
       "      <td>-11.700742</td>\n",
       "      <td>-8.149296</td>\n",
       "    </tr>\n",
       "    <tr>\n",
       "      <th>2</th>\n",
       "      <td>country.00065.wav</td>\n",
       "      <td>country</td>\n",
       "      <td>0.282832</td>\n",
       "      <td>894.163206</td>\n",
       "      <td>1195.504133</td>\n",
       "      <td>1638.879933</td>\n",
       "      <td>0.038668</td>\n",
       "      <td>123.046875</td>\n",
       "      <td>0.110570</td>\n",
       "      <td>-250.869250</td>\n",
       "      <td>...</td>\n",
       "      <td>-1.986717</td>\n",
       "      <td>-2.687421</td>\n",
       "      <td>-6.502090</td>\n",
       "      <td>-3.036567</td>\n",
       "      <td>-3.380589</td>\n",
       "      <td>-6.804494</td>\n",
       "      <td>-3.721581</td>\n",
       "      <td>-4.942162</td>\n",
       "      <td>-2.600114</td>\n",
       "      <td>-0.758590</td>\n",
       "    </tr>\n",
       "    <tr>\n",
       "      <th>3</th>\n",
       "      <td>rock.00099.wav</td>\n",
       "      <td>rock</td>\n",
       "      <td>0.358401</td>\n",
       "      <td>1609.795082</td>\n",
       "      <td>1797.213044</td>\n",
       "      <td>3246.908930</td>\n",
       "      <td>0.076305</td>\n",
       "      <td>123.046875</td>\n",
       "      <td>0.054454</td>\n",
       "      <td>-235.161996</td>\n",
       "      <td>...</td>\n",
       "      <td>3.197235</td>\n",
       "      <td>-0.324466</td>\n",
       "      <td>1.586878</td>\n",
       "      <td>-2.962916</td>\n",
       "      <td>-2.659141</td>\n",
       "      <td>-3.414244</td>\n",
       "      <td>-9.300236</td>\n",
       "      <td>-3.464518</td>\n",
       "      <td>1.290004</td>\n",
       "      <td>-3.394978</td>\n",
       "    </tr>\n",
       "    <tr>\n",
       "      <th>4</th>\n",
       "      <td>country.00031.wav</td>\n",
       "      <td>country</td>\n",
       "      <td>0.313399</td>\n",
       "      <td>2053.229089</td>\n",
       "      <td>2187.759412</td>\n",
       "      <td>4094.556061</td>\n",
       "      <td>0.095325</td>\n",
       "      <td>112.347147</td>\n",
       "      <td>0.100855</td>\n",
       "      <td>-130.462863</td>\n",
       "      <td>...</td>\n",
       "      <td>-2.419361</td>\n",
       "      <td>0.125743</td>\n",
       "      <td>-1.987918</td>\n",
       "      <td>-2.968017</td>\n",
       "      <td>-5.894993</td>\n",
       "      <td>-7.130352</td>\n",
       "      <td>-2.982234</td>\n",
       "      <td>-1.969581</td>\n",
       "      <td>-5.291008</td>\n",
       "      <td>-8.074206</td>\n",
       "    </tr>\n",
       "  </tbody>\n",
       "</table>\n",
       "<p>5 rows × 59 columns</p>\n",
       "</div>"
      ],
      "text/plain": [
       "              filename      genre  chroma_stft    spec_cent      spec_bw  \\\n",
       "0     hiphop.00039.wav     hiphop     0.392812  2693.202928  2937.743987   \n",
       "1  classical.00008.wav  classical     0.254753  1516.831118  1629.756432   \n",
       "2    country.00065.wav    country     0.282832   894.163206  1195.504133   \n",
       "3       rock.00099.wav       rock     0.358401  1609.795082  1797.213044   \n",
       "4    country.00031.wav    country     0.313399  2053.229089  2187.759412   \n",
       "\n",
       "       rolloff       zcr         bpm       rms       mfcc1    ...     \\\n",
       "0  5976.540527  0.111564   95.703125  0.184535 -120.936802    ...      \n",
       "1  2974.121717  0.078778  135.999178  0.034045 -292.060391    ...      \n",
       "2  1638.879933  0.038668  123.046875  0.110570 -250.869250    ...      \n",
       "3  3246.908930  0.076305  123.046875  0.054454 -235.161996    ...      \n",
       "4  4094.556061  0.095325  112.347147  0.100855 -130.462863    ...      \n",
       "\n",
       "     mfcc41    mfcc42    mfcc43    mfcc44    mfcc45    mfcc46    mfcc47  \\\n",
       "0 -4.544398 -1.116098 -0.442828  1.368081 -1.351025  1.062983 -1.365897   \n",
       "1 -3.128277 -4.105968 -2.829742 -4.551546 -3.399555  0.326640 -0.111041   \n",
       "2 -1.986717 -2.687421 -6.502090 -3.036567 -3.380589 -6.804494 -3.721581   \n",
       "3  3.197235 -0.324466  1.586878 -2.962916 -2.659141 -3.414244 -9.300236   \n",
       "4 -2.419361  0.125743 -1.987918 -2.968017 -5.894993 -7.130352 -2.982234   \n",
       "\n",
       "     mfcc48     mfcc49    mfcc50  \n",
       "0 -0.282049  -3.322343 -2.491533  \n",
       "1  1.113019 -11.700742 -8.149296  \n",
       "2 -4.942162  -2.600114 -0.758590  \n",
       "3 -3.464518   1.290004 -3.394978  \n",
       "4 -1.969581  -5.291008 -8.074206  \n",
       "\n",
       "[5 rows x 59 columns]"
      ]
     },
     "execution_count": 3,
     "metadata": {
      "tags": []
     },
     "output_type": "execute_result"
    }
   ],
   "source": [
    "# storing data in a dataframe\n",
    "import io\n",
    "df = pd.read_csv(io.BytesIO(uploaded['dataset_final5.csv']))\n",
    "df.head()"
   ]
  },
  {
   "cell_type": "code",
   "execution_count": 4,
   "metadata": {
    "colab": {
     "base_uri": "https://localhost:8080/",
     "height": 34
    },
    "colab_type": "code",
    "id": "573iXiQqfT8u",
    "outputId": "c8cf0a5b-995f-42b6-e4c2-4e5492e6acdd"
   },
   "outputs": [
    {
     "name": "stdout",
     "output_type": "stream",
     "text": [
      "(1000, 37)\n"
     ]
    }
   ],
   "source": [
    "X = df.get_values()\n",
    "Y = X[:,1] # genres\n",
    "X = X[:,2:-20] # manually varying number of mfccs to use a peak at 30 mfcc was achieved\n",
    "print(X.shape)"
   ]
  },
  {
   "cell_type": "code",
   "execution_count": 5,
   "metadata": {
    "colab": {
     "base_uri": "https://localhost:8080/",
     "height": 156
    },
    "colab_type": "code",
    "id": "s100eSUgfmwN",
    "outputId": "edd968c6-eca3-423e-f848-7b11ffaaa0cd"
   },
   "outputs": [
    {
     "name": "stdout",
     "output_type": "stream",
     "text": [
      "(100,)\n"
     ]
    },
    {
     "name": "stderr",
     "output_type": "stream",
     "text": [
      "/usr/local/lib/python3.6/dist-packages/sklearn/utils/validation.py:595: DataConversionWarning: Data with input dtype object was converted to float64 by StandardScaler.\n",
      "  warnings.warn(msg, DataConversionWarning)\n",
      "/usr/local/lib/python3.6/dist-packages/sklearn/utils/validation.py:595: DataConversionWarning: Data with input dtype object was converted to float64 by StandardScaler.\n",
      "  warnings.warn(msg, DataConversionWarning)\n",
      "/usr/local/lib/python3.6/dist-packages/sklearn/utils/validation.py:595: DataConversionWarning: Data with input dtype object was converted to float64 by StandardScaler.\n",
      "  warnings.warn(msg, DataConversionWarning)\n"
     ]
    }
   ],
   "source": [
    "# data preprocessing\n",
    "from sklearn.preprocessing import StandardScaler\n",
    "from sklearn.model_selection import train_test_split\n",
    "\n",
    "# splitting to train and test sets\n",
    "X_train,X_test,Y_train,Y_test = train_test_split(X,Y,test_size=0.1,random_state=seed)\n",
    "print(Y_test.shape)\n",
    "\n",
    "# scaling data to have 0 mean and unit variance\n",
    "scaler = StandardScaler()\n",
    "X_train = scaler.fit_transform(X_train)\n",
    "X_test = scaler.transform(X_test)"
   ]
  },
  {
   "cell_type": "code",
   "execution_count": 6,
   "metadata": {
    "colab": {
     "base_uri": "https://localhost:8080/",
     "height": 34
    },
    "colab_type": "code",
    "id": "81F7aat7gY-3",
    "outputId": "61abd478-f20b-4978-f199-f1f0893df0e7"
   },
   "outputs": [
    {
     "name": "stdout",
     "output_type": "stream",
     "text": [
      "Train data accuracy:  0.7122222222222222 Test data accuracy:  0.78\n"
     ]
    }
   ],
   "source": [
    "# logistic regression\n",
    "from sklearn.linear_model import LogisticRegression\n",
    "lgreg = LogisticRegression(multi_class='ovr',solver='liblinear')\n",
    "lgreg.fit(X_train,Y_train)\n",
    "print(\"Train data accuracy: \",lgreg.score(X_train,Y_train),\"Test data accuracy: \", lgreg.score(X_test,Y_test))"
   ]
  },
  {
   "cell_type": "code",
   "execution_count": 7,
   "metadata": {
    "colab": {
     "base_uri": "https://localhost:8080/",
     "height": 34
    },
    "colab_type": "code",
    "id": "Jf6vQPxog-l_",
    "outputId": "225b409a-c67f-48d7-f6ab-98f1002884d7"
   },
   "outputs": [
    {
     "name": "stdout",
     "output_type": "stream",
     "text": [
      "Train data accuracy:  0.49777777777777776 Test data accuracy:  0.52\n"
     ]
    }
   ],
   "source": [
    "# Naive Bayes\n",
    "from sklearn.naive_bayes import GaussianNB\n",
    "nb = GaussianNB()\n",
    "nb.fit(X_train,Y_train)\n",
    "print(\"Train data accuracy: \",nb.score(X_train,Y_train),\"Test data accuracy: \", nb.score(X_test,Y_test))"
   ]
  },
  {
   "cell_type": "code",
   "execution_count": 8,
   "metadata": {
    "colab": {
     "base_uri": "https://localhost:8080/",
     "height": 34
    },
    "colab_type": "code",
    "id": "lNvYXWsZiX27",
    "outputId": "5f23273c-63b6-4f8b-a31c-d25419b6d249"
   },
   "outputs": [
    {
     "name": "stdout",
     "output_type": "stream",
     "text": [
      "Train data accuracy:  0.8577777777777778 Test data accuracy:  0.76\n"
     ]
    }
   ],
   "source": [
    "# SVM\n",
    "from sklearn.svm import SVC\n",
    "svm = SVC(kernel='rbf') # testing various kernels\n",
    "svm.fit(X_train,Y_train)\n",
    "print(\"Train data accuracy: \",svm.score(X_train,Y_train),\"Test data accuracy: \", svm.score(X_test,Y_test))"
   ]
  },
  {
   "cell_type": "code",
   "execution_count": 9,
   "metadata": {
    "colab": {
     "base_uri": "https://localhost:8080/",
     "height": 1448
    },
    "colab_type": "code",
    "id": "8XExoswkip9o",
    "outputId": "f67a56ea-dd5f-400c-9f6b-0b0f5ca318da"
   },
   "outputs": [
    {
     "name": "stdout",
     "output_type": "stream",
     "text": [
      "# Tuning hyper-parameters\n",
      "\n",
      "Best parameters set found on development set:\n",
      "\n",
      "{'C': 10, 'gamma': 0.01, 'kernel': 'rbf'}\n",
      "\n",
      "Grid scores on development set:\n",
      "\n",
      "0.106 (+/-0.004) for {'C': 0.001, 'gamma': 0.01, 'kernel': 'rbf'}\n",
      "0.106 (+/-0.004) for {'C': 0.001, 'gamma': 0.001, 'kernel': 'rbf'}\n",
      "0.106 (+/-0.004) for {'C': 0.001, 'gamma': 0.0001, 'kernel': 'rbf'}\n",
      "0.106 (+/-0.004) for {'C': 0.001, 'gamma': 1e-05, 'kernel': 'rbf'}\n",
      "0.407 (+/-0.039) for {'C': 0.1, 'gamma': 0.01, 'kernel': 'rbf'}\n",
      "0.106 (+/-0.004) for {'C': 0.1, 'gamma': 0.001, 'kernel': 'rbf'}\n",
      "0.106 (+/-0.004) for {'C': 0.1, 'gamma': 0.0001, 'kernel': 'rbf'}\n",
      "0.106 (+/-0.004) for {'C': 0.1, 'gamma': 1e-05, 'kernel': 'rbf'}\n",
      "0.407 (+/-0.039) for {'C': 0.1, 'gamma': 0.01, 'kernel': 'rbf'}\n",
      "0.106 (+/-0.004) for {'C': 0.1, 'gamma': 0.001, 'kernel': 'rbf'}\n",
      "0.106 (+/-0.004) for {'C': 0.1, 'gamma': 0.0001, 'kernel': 'rbf'}\n",
      "0.106 (+/-0.004) for {'C': 0.1, 'gamma': 1e-05, 'kernel': 'rbf'}\n",
      "0.664 (+/-0.054) for {'C': 10, 'gamma': 0.01, 'kernel': 'rbf'}\n",
      "0.594 (+/-0.044) for {'C': 10, 'gamma': 0.001, 'kernel': 'rbf'}\n",
      "0.442 (+/-0.051) for {'C': 10, 'gamma': 0.0001, 'kernel': 'rbf'}\n",
      "0.108 (+/-0.009) for {'C': 10, 'gamma': 1e-05, 'kernel': 'rbf'}\n",
      "0.649 (+/-0.062) for {'C': 25, 'gamma': 0.01, 'kernel': 'rbf'}\n",
      "0.612 (+/-0.067) for {'C': 25, 'gamma': 0.001, 'kernel': 'rbf'}\n",
      "0.507 (+/-0.035) for {'C': 25, 'gamma': 0.0001, 'kernel': 'rbf'}\n",
      "0.280 (+/-0.033) for {'C': 25, 'gamma': 1e-05, 'kernel': 'rbf'}\n",
      "0.657 (+/-0.046) for {'C': 50, 'gamma': 0.01, 'kernel': 'rbf'}\n",
      "0.633 (+/-0.087) for {'C': 50, 'gamma': 0.001, 'kernel': 'rbf'}\n",
      "0.538 (+/-0.056) for {'C': 50, 'gamma': 0.0001, 'kernel': 'rbf'}\n",
      "0.374 (+/-0.051) for {'C': 50, 'gamma': 1e-05, 'kernel': 'rbf'}\n",
      "0.653 (+/-0.039) for {'C': 100, 'gamma': 0.01, 'kernel': 'rbf'}\n",
      "0.636 (+/-0.073) for {'C': 100, 'gamma': 0.001, 'kernel': 'rbf'}\n",
      "0.581 (+/-0.037) for {'C': 100, 'gamma': 0.0001, 'kernel': 'rbf'}\n",
      "0.441 (+/-0.047) for {'C': 100, 'gamma': 1e-05, 'kernel': 'rbf'}\n",
      "0.650 (+/-0.041) for {'C': 1000, 'gamma': 0.01, 'kernel': 'rbf'}\n",
      "0.623 (+/-0.044) for {'C': 1000, 'gamma': 0.001, 'kernel': 'rbf'}\n",
      "0.622 (+/-0.064) for {'C': 1000, 'gamma': 0.0001, 'kernel': 'rbf'}\n",
      "0.577 (+/-0.041) for {'C': 1000, 'gamma': 1e-05, 'kernel': 'rbf'}\n",
      "0.106 (+/-0.004) for {'C': 0.001, 'gamma': 0.01, 'kernel': 'sigmoid'}\n",
      "0.106 (+/-0.004) for {'C': 0.001, 'gamma': 0.001, 'kernel': 'sigmoid'}\n",
      "0.106 (+/-0.004) for {'C': 0.001, 'gamma': 0.0001, 'kernel': 'sigmoid'}\n",
      "0.106 (+/-0.004) for {'C': 0.001, 'gamma': 1e-05, 'kernel': 'sigmoid'}\n",
      "0.371 (+/-0.056) for {'C': 0.1, 'gamma': 0.01, 'kernel': 'sigmoid'}\n",
      "0.106 (+/-0.004) for {'C': 0.1, 'gamma': 0.001, 'kernel': 'sigmoid'}\n",
      "0.106 (+/-0.004) for {'C': 0.1, 'gamma': 0.0001, 'kernel': 'sigmoid'}\n",
      "0.106 (+/-0.004) for {'C': 0.1, 'gamma': 1e-05, 'kernel': 'sigmoid'}\n",
      "0.371 (+/-0.056) for {'C': 0.1, 'gamma': 0.01, 'kernel': 'sigmoid'}\n",
      "0.106 (+/-0.004) for {'C': 0.1, 'gamma': 0.001, 'kernel': 'sigmoid'}\n",
      "0.106 (+/-0.004) for {'C': 0.1, 'gamma': 0.0001, 'kernel': 'sigmoid'}\n",
      "0.106 (+/-0.004) for {'C': 0.1, 'gamma': 1e-05, 'kernel': 'sigmoid'}\n",
      "0.548 (+/-0.059) for {'C': 10, 'gamma': 0.01, 'kernel': 'sigmoid'}\n",
      "0.536 (+/-0.057) for {'C': 10, 'gamma': 0.001, 'kernel': 'sigmoid'}\n",
      "0.376 (+/-0.048) for {'C': 10, 'gamma': 0.0001, 'kernel': 'sigmoid'}\n",
      "0.106 (+/-0.004) for {'C': 10, 'gamma': 1e-05, 'kernel': 'sigmoid'}\n",
      "0.533 (+/-0.061) for {'C': 25, 'gamma': 0.01, 'kernel': 'sigmoid'}\n",
      "0.590 (+/-0.059) for {'C': 25, 'gamma': 0.001, 'kernel': 'sigmoid'}\n",
      "0.449 (+/-0.030) for {'C': 25, 'gamma': 0.0001, 'kernel': 'sigmoid'}\n",
      "0.119 (+/-0.048) for {'C': 25, 'gamma': 1e-05, 'kernel': 'sigmoid'}\n",
      "0.513 (+/-0.064) for {'C': 50, 'gamma': 0.01, 'kernel': 'sigmoid'}\n",
      "0.614 (+/-0.087) for {'C': 50, 'gamma': 0.001, 'kernel': 'sigmoid'}\n",
      "0.502 (+/-0.036) for {'C': 50, 'gamma': 0.0001, 'kernel': 'sigmoid'}\n",
      "0.280 (+/-0.033) for {'C': 50, 'gamma': 1e-05, 'kernel': 'sigmoid'}\n",
      "0.513 (+/-0.072) for {'C': 100, 'gamma': 0.01, 'kernel': 'sigmoid'}\n",
      "0.611 (+/-0.063) for {'C': 100, 'gamma': 0.001, 'kernel': 'sigmoid'}\n",
      "0.537 (+/-0.057) for {'C': 100, 'gamma': 0.0001, 'kernel': 'sigmoid'}\n",
      "0.376 (+/-0.048) for {'C': 100, 'gamma': 1e-05, 'kernel': 'sigmoid'}\n",
      "0.478 (+/-0.053) for {'C': 1000, 'gamma': 0.01, 'kernel': 'sigmoid'}\n",
      "0.620 (+/-0.047) for {'C': 1000, 'gamma': 0.001, 'kernel': 'sigmoid'}\n",
      "0.613 (+/-0.067) for {'C': 1000, 'gamma': 0.0001, 'kernel': 'sigmoid'}\n",
      "0.537 (+/-0.057) for {'C': 1000, 'gamma': 1e-05, 'kernel': 'sigmoid'}\n",
      "0.376 (+/-0.048) for {'C': 0.001, 'kernel': 'linear'}\n",
      "0.613 (+/-0.067) for {'C': 0.1, 'kernel': 'linear'}\n",
      "0.613 (+/-0.067) for {'C': 0.1, 'kernel': 'linear'}\n",
      "0.603 (+/-0.038) for {'C': 10, 'kernel': 'linear'}\n",
      "0.594 (+/-0.051) for {'C': 25, 'kernel': 'linear'}\n",
      "0.588 (+/-0.055) for {'C': 50, 'kernel': 'linear'}\n",
      "0.591 (+/-0.050) for {'C': 100, 'kernel': 'linear'}\n",
      "0.583 (+/-0.044) for {'C': 1000, 'kernel': 'linear'}\n",
      "\n"
     ]
    },
    {
     "name": "stderr",
     "output_type": "stream",
     "text": [
      "/usr/local/lib/python3.6/dist-packages/sklearn/model_selection/_search.py:841: DeprecationWarning: The default of the `iid` parameter will change from True to False in version 0.22 and will be removed in 0.24. This will change numeric results when test-set sizes are unequal.\n",
      "  DeprecationWarning)\n"
     ]
    }
   ],
   "source": [
    "# tuning svm\n",
    "from sklearn.model_selection import GridSearchCV\n",
    "\n",
    "tuned_parameters = [{'kernel': ['rbf'], 'gamma': [1e-2, 1e-3, 1e-4, 1e-5],\n",
    "                     'C': [0.001, 0.10, 0.1, 10, 25, 50, 100, 1000]},\n",
    "                    {'kernel': ['sigmoid'], 'gamma': [1e-2, 1e-3, 1e-4, 1e-5],\n",
    "                     'C': [0.001, 0.10, 0.1, 10, 25, 50, 100, 1000]},\n",
    "                    {'kernel': ['linear'], 'C': [0.001, 0.10, 0.1, 10, 25, 50, 100, 1000]}\n",
    "                   ]\n",
    "\n",
    "print(\"# Tuning hyper-parameters\")\n",
    "print()\n",
    "clf = GridSearchCV(SVC(C=1), tuned_parameters, cv=5,\n",
    "                       scoring='accuracy')\n",
    "clf.fit(X_train, Y_train)\n",
    "print(\"Best parameters set found on development set:\")\n",
    "print()\n",
    "print(clf.best_params_)\n",
    "print()\n",
    "print(\"Grid scores on development set:\")\n",
    "print()\n",
    "means = clf.cv_results_['mean_test_score']\n",
    "stds = clf.cv_results_['std_test_score']\n",
    "for mean, std, params in zip(means, stds, clf.cv_results_['params']):\n",
    "    print(\"%0.3f (+/-%0.03f) for %r\"\n",
    "              % (mean, std * 2, params))\n",
    "print()\n"
   ]
  },
  {
   "cell_type": "code",
   "execution_count": 10,
   "metadata": {
    "colab": {
     "base_uri": "https://localhost:8080/",
     "height": 34
    },
    "colab_type": "code",
    "id": "LFzV-GY_jtAP",
    "outputId": "cfb27dd6-c69b-4713-f292-054939a957d8"
   },
   "outputs": [
    {
     "name": "stdout",
     "output_type": "stream",
     "text": [
      "Train data accuracy:  0.9433333333333334 Test data accuracy:  0.85\n"
     ]
    }
   ],
   "source": [
    "svm = SVC(C=12,gamma=1e-2,kernel='rbf') # further manually tuning C\n",
    "svm.fit(X_train,Y_train)\n",
    "print(\"Train data accuracy: \",svm.score(X_train,Y_train),\"Test data accuracy: \", svm.score(X_test,Y_test))"
   ]
  },
  {
   "cell_type": "code",
   "execution_count": 11,
   "metadata": {
    "colab": {
     "base_uri": "https://localhost:8080/",
     "height": 34
    },
    "colab_type": "code",
    "id": "GalTHMd3KNew",
    "outputId": "82d7c3bc-fbf9-4d6e-dd9f-48699e557a33"
   },
   "outputs": [
    {
     "name": "stdout",
     "output_type": "stream",
     "text": [
      "Train data accuracy:  0.9944444444444445 Test data accuracy:  0.72\n"
     ]
    }
   ],
   "source": [
    "# GradientBoosting\n",
    "from sklearn.ensemble import GradientBoostingClassifier\n",
    "gb = GradientBoostingClassifier(learning_rate=0.1 ,n_estimators=50)\n",
    "gb.fit(X_train,Y_train)\n",
    "print(\"Train data accuracy: \",gb.score(X_train,Y_train),\"Test data accuracy: \", gb.score(X_test,Y_test))"
   ]
  },
  {
   "cell_type": "code",
   "execution_count": 12,
   "metadata": {
    "colab": {
     "base_uri": "https://localhost:8080/",
     "height": 34
    },
    "colab_type": "code",
    "id": "gEK2cIoXLPiy",
    "outputId": "5b927764-eb80-4f6b-e82d-ca823b0b0fc6"
   },
   "outputs": [
    {
     "name": "stdout",
     "output_type": "stream",
     "text": [
      "Train data accuracy:  0.9722222222222222 Test data accuracy:  0.71\n"
     ]
    }
   ],
   "source": [
    "# QDA\n",
    "from sklearn.discriminant_analysis import QuadraticDiscriminantAnalysis\n",
    "qda = QuadraticDiscriminantAnalysis()\n",
    "qda.fit(X_train,Y_train)\n",
    "print(\"Train data accuracy: \",qda.score(X_train,Y_train),\"Test data accuracy: \", qda.score(X_test,Y_test))"
   ]
  },
  {
   "cell_type": "code",
   "execution_count": 13,
   "metadata": {
    "colab": {
     "base_uri": "https://localhost:8080/",
     "height": 34
    },
    "colab_type": "code",
    "id": "WZx4XSZzaFO_",
    "outputId": "148814ea-8f17-4b05-e502-7f1fb14b79c5"
   },
   "outputs": [
    {
     "name": "stdout",
     "output_type": "stream",
     "text": [
      "Train data accuracy:  0.6933333333333334 Test data accuracy:  0.73\n"
     ]
    }
   ],
   "source": [
    "#LDA\n",
    "from sklearn.discriminant_analysis import LinearDiscriminantAnalysis\n",
    "lda = LinearDiscriminantAnalysis()\n",
    "lda.fit(X_train,Y_train)\n",
    "print(\"Train data accuracy: \",lda.score(X_train,Y_train),\"Test data accuracy: \", lda.score(X_test,Y_test))"
   ]
  },
  {
   "cell_type": "code",
   "execution_count": 14,
   "metadata": {
    "colab": {
     "base_uri": "https://localhost:8080/",
     "height": 34
    },
    "colab_type": "code",
    "id": "COTmh6uBaWI4",
    "outputId": "63eb793b-a98b-48f8-b59e-0b68da6e5476"
   },
   "outputs": [
    {
     "name": "stdout",
     "output_type": "stream",
     "text": [
      "Train data accuracy:  0.9988888888888889 Test data accuracy:  0.75\n"
     ]
    }
   ],
   "source": [
    "# RandomForest\n",
    "from sklearn.ensemble import RandomForestClassifier\n",
    "rf = RandomForestClassifier(n_estimators=1000)\n",
    "rf.fit(X_train,Y_train)\n",
    "print(\"Train data accuracy: \",rf.score(X_train,Y_train),\"Test data accuracy: \", rf.score(X_test,Y_test))"
   ]
  },
  {
   "cell_type": "code",
   "execution_count": 15,
   "metadata": {
    "colab": {
     "base_uri": "https://localhost:8080/",
     "height": 374
    },
    "colab_type": "code",
    "id": "7ZqpCrUa0fQ3",
    "outputId": "ecccf123-c4b9-48cf-8134-cdad0d8053e0"
   },
   "outputs": [
    {
     "data": {
      "image/png": "[encoded data removed]",
      "text/plain": [
       "<Figure size 576x396 with 2 Axes>"
      ]
     },
     "metadata": {
      "tags": []
     },
     "output_type": "display_data"
    }
   ],
   "source": [
    "# SVM seems to perform exceptionally well\n",
    "Y_pred = svm.predict(X_test)\n",
    "\n",
    "# plotting confusion matrix of our classifier\n",
    "\n",
    "from sklearn.metrics import confusion_matrix\n",
    "import matplotlib.pyplot as plt\n",
    "from matplotlib.ticker import MultipleLocator\n",
    " \n",
    "labels = ['blues','classical','country', 'disco','hiphop', 'jazz', 'metal', 'pop','reggae', 'rock']\n",
    "\n",
    "cm = confusion_matrix(Y_test,Y_pred,labels)\n",
    "\n",
    "fig = plt.figure()\n",
    "ax = fig.add_subplot(111)\n",
    "cax = ax.matshow(cm)\n",
    "plt.title(\"Confusion Matrix\")\n",
    "plt.colorbar(cax)\n",
    "ax.xaxis.set_major_locator(MultipleLocator(1))\n",
    "ax.yaxis.set_major_locator(MultipleLocator(1))\n",
    "ax.set_xticklabels([''] + labels)\n",
    "ax.set_yticklabels([''] + labels)\n",
    "plt.xlabel(\"Predicted genre\")\n",
    "plt.ylabel(\"True genre\")\n",
    "plt.show()"
   ]
  },
  {
   "cell_type": "code",
   "execution_count": 0,
   "metadata": {
    "colab": {},
    "colab_type": "code",
    "id": "xIJo6v_c4Ba6"
   },
   "outputs": [],
   "source": [
    "# saving the model\n",
    "import pickle\n",
    "\n",
    "pickle.dump(svm,open('svm.sav','wb'))\n",
    "pickle.dump(scaler,open('scaler.sav','wb'))"
   ]
  },
  {
   "cell_type": "code",
   "execution_count": 0,
   "metadata": {
    "colab": {},
    "colab_type": "code",
    "id": "T1_E9v184c9U"
   },
   "outputs": [],
   "source": [
    "files.download('svm.sav')"
   ]
  },
  {
   "cell_type": "code",
   "execution_count": 0,
   "metadata": {
    "colab": {},
    "colab_type": "code",
    "id": "6HTE1RlF49ki"
   },
   "outputs": [],
   "source": [
    "files.download('scaler.sav')"
   ]
  },
  {
   "cell_type": "code",
   "execution_count": 0,
   "metadata": {
    "colab": {},
    "colab_type": "code",
    "id": "OaLYOO1r5Akz"
   },
   "outputs": [],
   "source": []
  }
 ],
 "metadata": {
  "accelerator": "TPU",
  "colab": {
   "collapsed_sections": [],
   "name": "ml_model.ipynb",
   "provenance": [],
   "version": "0.3.2"
  },
  "kernelspec": {
   "display_name": "Python 3",
   "language": "python",
   "name": "python3"
  },
  "language_info": {
   "codemirror_mode": {
    "name": "ipython",
    "version": 3
   },
   "file_extension": ".py",
   "mimetype": "text/x-python",
   "name": "python",
   "nbconvert_exporter": "python",
   "pygments_lexer": "ipython3",
   "version": "3.6.8"
  },
  "toc": {
   "base_numbering": 1,
   "nav_menu": {},
   "number_sections": true,
   "sideBar": true,
   "skip_h1_title": false,
   "title_cell": "Table of Contents",
   "title_sidebar": "Contents",
   "toc_cell": false,
   "toc_position": {},
   "toc_section_display": true,
   "toc_window_display": false
  }
 },
 "nbformat": 4,
 "nbformat_minor": 1
}
